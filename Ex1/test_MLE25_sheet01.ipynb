from sklearn.datasets import make_circles

# ===========================
# 3. Apply linear SVM on circles
# ===========================

# Step 1: Generate circles dataset

X_circles, y_circles = make_circles(n_samples=300, factor=0.5, noise=0.1, random_state=42)
y_circles = 2 * (y_circles - 0.5)  # Convert labels from {0,1} to {-1,1}

# Step 2: Train SVM with linear kernel
svm = DualSVM(C=1.0, kernel="linear")
svm.fit(X_circles, y_circles)

# Step 3: Plot decision boundary
def plot_decision_boundary(X, y, model, title="SVM Decision Boundary"):
    # Create a meshgrid
    x_min, x_max = X[:, 0].min() - 1, X[:, 0].max() + 1
    y_min, y_max = X[:, 1].min() - 1, X[:, 1].max() + 1
    xx, yy = np.meshgrid(np.arange(x_min, x_max, 0.01),
                         np.arange(y_min, y_max, 0.01))
    
    # Predict on the grid
    Z = model.predict(np.c_[xx.ravel(), yy.ravel()])
    Z = Z.reshape(xx.shape)
    
    # Plot decision boundary
    plt.contourf(xx, yy, Z, alpha=0.8, cmap=plt.cm.coolwarm)
    plt.scatter(X[:, 0], X[:, 1], c=y, edgecolors='k', cmap=plt.cm.coolwarm)
    plt.title(title)
    plt.show()

plot_decision_boundary(X_circles, y_circles, svm, title="Linear SVM on Circular Data")