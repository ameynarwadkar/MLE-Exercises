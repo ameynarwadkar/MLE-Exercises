{
 "cells": [
  {
   "cell_type": "markdown",
   "metadata": {},
   "source": [
    "# Machine Learning Essentials SS25 - Exercise Sheet 3\n",
    "\n",
    "## Instructions\n",
    "- `TODO`'s indicate where you need to complete the implementations.\n",
    "- You may use external resources, but <b>write your own solutions</b>.\n",
    "- Provide concise, but comprehensible comments to explain what your code does.\n",
    "- Code that's unnecessarily extensive and/or not well commented will not be scored."
   ]
  },
  {
   "cell_type": "markdown",
   "metadata": {},
   "source": [
    "## Exercise 3"
   ]
  },
  {
   "cell_type": "markdown",
   "metadata": {},
   "source": [
    "## Task 2"
   ]
  },
  {
   "cell_type": "code",
   "execution_count": null,
   "metadata": {},
   "outputs": [],
   "source": [
    "import numpy as np\n",
    "import matplotlib.pyplot as plt\n",
    "\n",
    "# TODO: Define network parameters\n",
    "# Hidden layer\n",
    "W1 = \n",
    "b1 = \n",
    "# Output layer\n",
    "w2 = \n",
    "b2 = \n",
    "\n",
    "class XORNetwork:\n",
    "    def __init__(self, W1, b1, w2, b2):\n",
    "        self.W1 = W1\n",
    "        self.b1 = b1\n",
    "        self.w2 = w2\n",
    "        self.b2 = b2\n",
    "\n",
    "    # TODO: Implement the forward pass (& activation) of the two-layer network\n",
    "    # Define sigmoid activation function\n",
    "    def forward(self, x):\n",
    "        \"\"\"\n",
    "        Forward pass through the network. Returns hidden layer activations and output.\n",
    "        \"\"\"\n",
    "        return"
   ]
  },
  {
   "cell_type": "markdown",
   "metadata": {},
   "source": [
    "### Task 3"
   ]
  },
  {
   "cell_type": "code",
   "execution_count": null,
   "metadata": {},
   "outputs": [],
   "source": [
    "# TODO: Create XOR dataset, compute outputs & visualize decision boundary"
   ]
  },
  {
   "cell_type": "markdown",
   "metadata": {},
   "source": [
    "### Task 5"
   ]
  },
  {
   "cell_type": "code",
   "execution_count": null,
   "metadata": {},
   "outputs": [],
   "source": [
    "# TODO: (a) Compute hidden layer activations\n",
    "\n",
    "# TODO: (b) Create scatter plot in the (phi1, phi2) plane, coloring points by their label\n",
    "\n",
    "# TODO: (c) Draw the output layer's decision boundary in the (phi1, phi2) space"
   ]
  },
  {
   "cell_type": "markdown",
   "metadata": {},
   "source": [
    "<b>TODO</b>: (d) Briefly discuss the result"
   ]
  }
 ],
 "metadata": {
  "kernelspec": {
   "display_name": "BPTT_TF-torch1.10",
   "language": "python",
   "name": "python3"
  },
  "language_info": {
   "codemirror_mode": {
    "name": "ipython",
    "version": 3
   },
   "file_extension": ".py",
   "mimetype": "text/x-python",
   "name": "python",
   "nbconvert_exporter": "python",
   "pygments_lexer": "ipython3",
   "version": "3.11.5"
  }
 },
 "nbformat": 4,
 "nbformat_minor": 2
}
